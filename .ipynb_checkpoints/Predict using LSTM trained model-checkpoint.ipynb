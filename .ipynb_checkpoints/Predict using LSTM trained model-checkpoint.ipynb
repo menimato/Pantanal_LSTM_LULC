{
 "cells": [
  {
   "cell_type": "markdown",
   "metadata": {},
   "source": [
    "# LSTM Prediction"
   ]
  },
  {
   "cell_type": "code",
   "execution_count": null,
   "metadata": {},
   "outputs": [],
   "source": [
    "import numpy as np\n",
    "\n",
    "import collections\n",
    "import tensorflow as tf\n",
    "from tensorflow import keras\n",
    "from tensorflow.keras import layers\n",
    "from keras.utils import to_categorical\n",
    "\n",
    "from matplotlib import pyplot as plt\n",
    "\n",
    "import time\n",
    "\n",
    "import os\n",
    "\n",
    "import rasterio as r\n",
    "\n",
    "from tqdm.notebook import tqdm"
   ]
  },
  {
   "cell_type": "code",
   "execution_count": null,
   "metadata": {},
   "outputs": [],
   "source": [
    "# ===========================================\n",
    "# defining model\n",
    "input_dim = 7\n",
    "units = 20\n",
    "output_size = 6\n",
    "\n",
    "# Build the RNN model\n",
    "def build_model(allow_cudnn_kernel=True, model_id=''):\n",
    "    # CuDNN is only available at the layer level, and not at the cell level.\n",
    "    # This means `LSTM(units)` will use the CuDNN kernel,\n",
    "    # while RNN(LSTMCell(units)) will run on non-CuDNN kernel.\n",
    "    if allow_cudnn_kernel:\n",
    "        # The LSTM layer with default options uses CuDNN.\n",
    "        lstm_layer1 = tf.keras.layers.LSTM(units, return_sequences=False, input_shape=(None, input_dim))\n",
    "        lstm_layer2 = tf.keras.layers.LSTM(units*2, return_sequences=True, input_shape=(None, input_dim))\n",
    "        lstm_layer3 = tf.keras.layers.LSTM(units*3, return_sequences=True, input_shape=(None, input_dim))\n",
    "        lstm_layer4 = tf.keras.layers.LSTM(units*4, return_sequences=True, input_shape=(None, input_dim))\n",
    "        lstm_layer5 = tf.keras.layers.LSTM(units*5, return_sequences=True, input_shape=(None, input_dim))\n",
    "    else:\n",
    "        # Wrapping a LSTMCell in a RNN layer will not use CuDNN.\n",
    "        lstm_layer1 = tf.keras.layers.RNN(\n",
    "            tf.keras.layers.LSTMCell(units, return_sequences=False),\n",
    "            input_shape=(None, input_dim))\n",
    "        lstm_layer2 = tf.keras.layers.RNN(\n",
    "            tf.keras.layers.LSTMCell(units*2, return_Seuqences=True),\n",
    "            input_shape=(None, input_dim))\n",
    "        lstm_layer3 = tf.keras.layers.RNN(\n",
    "            tf.keras.layers.LSTMCell(units*3, return_Seuqences=True),\n",
    "            input_shape=(None, input_dim))\n",
    "        lstm_layer4 = tf.keras.layers.RNN(\n",
    "            tf.keras.layers.LSTMCell(units*4, return_Seuqences=True),\n",
    "            input_shape=(None, input_dim))\n",
    "        lstm_layer5 = tf.keras.layers.RNN(\n",
    "            tf.keras.layers.LSTMCell(units*5, return_Seuqences=True),\n",
    "            input_shape=(None, input_dim))\n",
    "\n",
    "    # the model\n",
    "    if model_id == 'model_1':\n",
    "        model = tf.keras.models.Sequential([lstm_layer1, \n",
    "                                            tf.keras.layers.BatchNormalization(),\n",
    "                                            tf.keras.layers.Dense(output_size, activation='softmax')])\n",
    "    elif model_id == 'model_2':\n",
    "        model = tf.keras.models.Sequential([lstm_layer2, \n",
    "                                            tf.keras.layers.BatchNormalization(),\n",
    "                                            lstm_layer1, \n",
    "                                            tf.keras.layers.BatchNormalization(),\n",
    "                                            tf.keras.layers.Dense(output_size, activation='softmax')])\n",
    "    elif model_id == 'model_3':\n",
    "        model = tf.keras.models.Sequential([lstm_layer3, \n",
    "                                            tf.keras.layers.BatchNormalization(),\n",
    "                                            lstm_layer2, \n",
    "                                            tf.keras.layers.BatchNormalization(),\n",
    "                                            lstm_layer1, \n",
    "                                            tf.keras.layers.BatchNormalization(),\n",
    "                                            tf.keras.layers.Dense(output_size, activation='softmax')])\n",
    "    elif model_id == 'model_4':\n",
    "        model = tf.keras.models.Sequential([lstm_layer4, \n",
    "                                            tf.keras.layers.BatchNormalization(),\n",
    "                                            lstm_layer3, \n",
    "                                            tf.keras.layers.BatchNormalization(),\n",
    "                                            lstm_layer2, \n",
    "                                            tf.keras.layers.BatchNormalization(),\n",
    "                                            lstm_layer1, \n",
    "                                            tf.keras.layers.BatchNormalization(),\n",
    "                                            tf.keras.layers.Dense(output_size, activation='softmax')])\n",
    "    elif model_id == 'model_5':\n",
    "        model = tf.keras.models.Sequential([lstm_layer5, \n",
    "                                            tf.keras.layers.BatchNormalization(),\n",
    "                                            lstm_layer4, \n",
    "                                            tf.keras.layers.BatchNormalization(),\n",
    "                                            lstm_layer3, \n",
    "                                            tf.keras.layers.BatchNormalization(),\n",
    "                                            lstm_layer2, \n",
    "                                            tf.keras.layers.BatchNormalization(),\n",
    "                                            lstm_layer1, \n",
    "                                            tf.keras.layers.BatchNormalization(),\n",
    "                                            tf.keras.layers.Dense(output_size, activation='softmax')])\n",
    "\n",
    "    return model"
   ]
  },
  {
   "cell_type": "code",
   "execution_count": null,
   "metadata": {},
   "outputs": [],
   "source": [
    "model = build_model(allow_cudnn_kernel=True, model_id='model_3')\n",
    "model.load_weights('/home/bruno.matosak/IGARSS2023/Pantanal/Landsat SR all/LSTM trainings/models/model_3/filled/001.h5')\n",
    "model.summary()"
   ]
  },
  {
   "cell_type": "code",
   "execution_count": null,
   "metadata": {},
   "outputs": [],
   "source": [
    "cube_0 = r.open('/home/bruno.matosak/IGARSS2023/Pantanal/Landsat SR all/cubes/band1_filled.tif')\n",
    "result = np.zeros([cube_0.height, cube_0.width], dtype=np.int)\n",
    "\n",
    "bands = ['band1', 'band2', 'band3', 'band4', 'band5', 'band6', 'band7']\n",
    "cubes_path = '/home/bruno.matosak/IGARSS2023/Pantanal/Landsat SR all/cubes/{0}_filled.tif'\n",
    "\n",
    "series = np.zeros([cube_0.width, cube_0.count, len(bands)], dtype=np.float32)\n",
    "for i in tqdm(range(cube_0.height)):\n",
    "    for j in range(len(bands)):\n",
    "        series[:,:,j] = np.moveaxis(r.open(cubes_path.format(bands[j])).read(window=r.windows.Window(0,i,cube_0.width,1)).squeeze(), 0,-1)/10000\n",
    "        \n",
    "    pred = tf.argmax(model.predict(series, verbose=0), axis=1)\n",
    "    result[i,:] = pred"
   ]
  },
  {
   "cell_type": "markdown",
   "metadata": {},
   "source": [
    "## Plotting Result"
   ]
  },
  {
   "cell_type": "code",
   "execution_count": null,
   "metadata": {},
   "outputs": [],
   "source": [
    "# custom cmap\n",
    "from matplotlib.colors import ListedColormap\n",
    "\n",
    "col_dict = ['#000000', # no data\n",
    "            '#668cff', # água\n",
    "            '#008040', # Floresta\n",
    "            '#00ff80', # Formação Natural Não Florestal\n",
    "            '#ffffb3', # Agropecuária\n",
    "            '#ff3385'] # Área não vegetada\n",
    "\n",
    "cmap = ListedColormap(col_dict)"
   ]
  },
  {
   "cell_type": "code",
   "execution_count": null,
   "metadata": {},
   "outputs": [],
   "source": [
    "plt.figure(figsize=(10,10))\n",
    "plt.imshow(result, cmap=cmap, interpolation='nearest')\n",
    "plt.show()"
   ]
  },
  {
   "cell_type": "markdown",
   "metadata": {},
   "source": [
    "## Saving Result"
   ]
  },
  {
   "cell_type": "code",
   "execution_count": null,
   "metadata": {},
   "outputs": [],
   "source": [
    "import gdal\n",
    "\n",
    "ref = gdal.Open('/home/bruno.matosak/IGARSS2023/Pantanal/Landsat SR all/cubes/pixel_qa.tif')\n",
    "in_band = ref.GetRasterBand(1)\n",
    "\n",
    "gtiff_driver = gdal.GetDriverByName('GTiff')\n",
    "path_result = '/home/bruno.matosak/IGARSS2023/Pantanal/Landsat SR all/LSTM trainings/result/Pantanal-LSTM-model_3-filled-001.tif'\n",
    "out_ds = gtiff_driver.Create(path_result, result.shape[1], result.shape[0], 1, in_band.DataType, ['COMPRESS=LZW'])\n",
    "out_ds.SetProjection(ref.GetProjection())\n",
    "out_ds.SetGeoTransform(ref.GetGeoTransform())  \n",
    "\n",
    "band = out_ds.GetRasterBand(1)\n",
    "band.WriteArray(result)\n",
    "band.SetNoDataValue(0)\n",
    "band.FlushCache()\n",
    "\n",
    "out_ds = None\n",
    "ref = None\n",
    "\n",
    "print(path_result)"
   ]
  }
 ],
 "metadata": {
  "kernelspec": {
   "display_name": "Python 3",
   "language": "python",
   "name": "python3"
  },
  "language_info": {
   "codemirror_mode": {
    "name": "ipython",
    "version": 3
   },
   "file_extension": ".py",
   "mimetype": "text/x-python",
   "name": "python",
   "nbconvert_exporter": "python",
   "pygments_lexer": "ipython3",
   "version": "3.9.16"
  }
 },
 "nbformat": 4,
 "nbformat_minor": 4
}
